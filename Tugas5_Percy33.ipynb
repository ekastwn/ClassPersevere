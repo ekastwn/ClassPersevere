{
  "nbformat": 4,
  "nbformat_minor": 0,
  "metadata": {
    "colab": {
      "name": "Tugas5_Percy33.ipynb",
      "provenance": [],
      "collapsed_sections": []
    },
    "kernelspec": {
      "name": "python3",
      "display_name": "Python 3"
    },
    "language_info": {
      "name": "python"
    }
  },
  "cells": [
    {
      "cell_type": "markdown",
      "source": [
        "**SESI PAGI**\n",
        "\n",
        "**Python OOP**\n",
        "1. Apa itu OOP dan cobalah buat 2 implementasi konsep OOP menggunakan python!\n",
        "\n",
        "> OOP adalah suatu metode pemrograman yang berorientasi objek. OOP merupakan paradigma pemrograman yang mempresentasikan objek seperti objek disekitar kita dalam bentuk kode program.\n",
        "\n",
        "\n"
      ],
      "metadata": {
        "id": "0mCYWr593aP3"
      }
    },
    {
      "cell_type": "code",
      "source": [
        "class hewan:\n",
        "    def NamaHewan(self):\n",
        "        print ('Ini Kucing')\n",
        "\n",
        "h = hewan()\n",
        "h.NamaHewan()"
      ],
      "metadata": {
        "colab": {
          "base_uri": "https://localhost:8080/"
        },
        "id": "ZTvAHRUh9UnP",
        "outputId": "c9aba92f-0a71-486d-dd9d-88ba6bf8117d"
      },
      "execution_count": null,
      "outputs": [
        {
          "output_type": "stream",
          "name": "stdout",
          "text": [
            "Ini Kucing\n"
          ]
        }
      ]
    },
    {
      "cell_type": "code",
      "source": [
        "class buah:\n",
        "    def __init__(self, nama):\n",
        "        self.nama = nama\n",
        "\n",
        "    def NamaBuah(self):\n",
        "        print ('Saya suka buah %s,kalau kamu ?' % self.nama)\n",
        "\n",
        "b = buah('Alpukat')\n",
        "b.NamaBuah()"
      ],
      "metadata": {
        "colab": {
          "base_uri": "https://localhost:8080/"
        },
        "id": "q9aC80o_5boU",
        "outputId": "f40378e4-ace3-47fd-8812-5ecc3d79f157"
      },
      "execution_count": null,
      "outputs": [
        {
          "output_type": "stream",
          "name": "stdout",
          "text": [
            "Saya suka buah Alpukat,kalau kamu ?\n"
          ]
        }
      ]
    },
    {
      "cell_type": "markdown",
      "source": [
        "2. Sebutkan dan jelaskan 2 jenis modules yang ada di Python!\n",
        "\n",
        "> - Function merupakan blok kode terorganisir dan dapat digunakan kembali yang digunakan untuk melakukkan sebuah tindakan atau action\n",
        "- "
      ],
      "metadata": {
        "id": "H0lib4C49kym"
      }
    },
    {
      "cell_type": "code",
      "source": [
        "# 3\n",
        "\n",
        "import math\n",
        "\n",
        "a = math.sqrt(175)\n",
        "b = math.sqrt(7)\n",
        "c = 4*b\n",
        "d = 1 / 3\n",
        "e =  math.log(81.3)\n",
        "\n",
        "print(a+b+c+d+e)"
      ],
      "metadata": {
        "colab": {
          "base_uri": "https://localhost:8080/"
        },
        "id": "Islzix3W_Xct",
        "outputId": "eae17c5d-cc86-4e51-9daf-49ac2897c430"
      },
      "execution_count": 7,
      "outputs": [
        {
          "output_type": "stream",
          "name": "stdout",
          "text": [
            "31.188992460533\n"
          ]
        }
      ]
    },
    {
      "cell_type": "markdown",
      "source": [
        "4. Apa itu custom exception handling dan berikan 1 contoh implementasinya!\n",
        "\n",
        "> Custom Exception merupakan sebuah pengecualian khusus yang sesuai dengan tujuan kita."
      ],
      "metadata": {
        "id": "zD0l4BAPZ7kM"
      }
    },
    {
      "cell_type": "code",
      "source": [
        "class CustomError(Exception):\n",
        "  pass\n",
        "\n",
        "  raise CustomeError\n",
        "  Traceback (most recent call last):\n",
        "\n",
        "  __main__.CustomError\n",
        "\n",
        "  raise CustomError(\"An error occurred\")\n",
        "Traceback (most recent call last):\n",
        "__main__.CustomError: An error occurred"
      ],
      "metadata": {
        "id": "mTVLxpJddFHO"
      },
      "execution_count": null,
      "outputs": []
    },
    {
      "cell_type": "markdown",
      "source": [
        "pada contoh diatas pengguna membuat pengecualian yaitu CustomeError yang mewarisi dari kelas pengecualian."
      ],
      "metadata": {
        "id": "yIs6Gv5_dlBY"
      }
    },
    {
      "cell_type": "markdown",
      "source": [
        "**Artifical Intelligence**\n",
        "1. Apa perbedaan dari structured dan unstructured data dan sebutkan 3 sumber data!\n",
        "\n",
        ">**Data Terstruktur**\n",
        "\n",
        ">a. Sangat terorganisir dan mudah dicari dengan kueri atau algoritme\n",
        "\n",
        ">b. Dapat dengan cepat dikonsolidasikan menjadi fakta\n",
        "\n",
        ">c. Mengikuti skema yang telah ditentukan sebelumnya\n",
        "\n",
        ">d. Biasanya berada dibidang tetap\n",
        "\n",
        ">e. Contoh tripikal adalah Relational Database Management System (RDBMS)\n",
        "\n",
        ">f. Skema ditentukan sebelum konten dibuat dan data diisi\n",
        "\n",
        ">**Data Tidak Terstruktur**\n",
        "\n",
        ">a. Tidak ada struktur yang dapat diidentifikasi untuk jenis data ini\n",
        "\n",
        ">b. Memiliki struktur internal, tetapi tidak memiliki skema yang telah ditentukan sebelumnya\n",
        "\n",
        ">c. Tidak dapat disimpan dalam baris dan kolom seperti database relasional\n",
        "\n",
        ">d. Tidak ada model data tetap, tidak terorganisir\n",
        "\n",
        ">e. Memerlukan lebih banyak ruang penyimpanan daripada data terstruktur\n",
        "\n",
        ">**Sumber Data**\n",
        "\n",
        ">a. Data Terstruktur\n",
        "\n",
        ">b. Data Tidak Terstruktur\n",
        "\n",
        ">c. Data Semi Terstruktur"
      ],
      "metadata": {
        "id": "ZaRVVAohenaM"
      }
    },
    {
      "cell_type": "markdown",
      "source": [
        "2. Jelaskan perbedaan AI, Machine Learning dan Deep Learning!\n",
        "\n",
        ">**AI**\n",
        "\n",
        ">Program dengan kemampuan untuk belajar dan bernalar seperti manusia\n",
        "\n",
        ">**Machine Learning**\n",
        "\n",
        ">Algoritma dengan kemampuan untuk belajar tanpa diprogram secara eksplisit\n",
        "\n",
        ">**Deep Learning**\n",
        "\n",
        ">Bagian dari pembelajaran mesin di mana jaringan saraf tiruan beradaptasi dan belajar dari sejumlah besar data\n"
      ],
      "metadata": {
        "id": "CBifC_C_kMNC"
      }
    },
    {
      "cell_type": "markdown",
      "source": [
        "3. Apa perbedaan Machine Learning dengan Tradisional Software\n",
        "\n",
        ">**Tradisional Software**\n",
        "\n",
        ">Data dan program dijalankan pada komputer untuk menghasilkan output.\n",
        "\n",
        ">**Machine Learning**\n",
        "\n",
        ">Data dan output dijalankan pada komputer untuk membuat program, dan kemudian program tersebut bisa digunakan dalam pemrograman tradisional.\n"
      ],
      "metadata": {
        "id": "fqmjZDLqnExg"
      }
    },
    {
      "cell_type": "markdown",
      "source": [
        "4. Sebutkan 3 contoh aplikasi Machine Learning di sektor smart city dan agriculture!\n",
        "\n",
        ">a. mCity\n",
        "\n",
        ">b. Qlue\n",
        "\n",
        ">c. LAPOR!"
      ],
      "metadata": {
        "id": "d4y3t4W9pjof"
      }
    },
    {
      "cell_type": "markdown",
      "source": [
        "**Maths For AI**\n",
        "\n",
        "1. Mengapa ilmu matemmatika penting ketika mempelajari AI\n",
        "\n",
        ">karena didalam pembuatan AI membutuhkan sebuat matematika"
      ],
      "metadata": {
        "id": "bB--IYFVqNmD"
      }
    },
    {
      "cell_type": "markdown",
      "source": [
        "2. Jelaskan perbedaan Vektor dan Skalar!\n",
        "\n",
        ">**Vektor**\n",
        "\n",
        ">Besaran yang memiliki nilai dan arah\n",
        "\n",
        ">**Skalar**\n",
        "\n",
        ">Tipe data yang variabelnya hanya memiliki 1 nilai saja.\n"
      ],
      "metadata": {
        "id": "itawBkxerg8f"
      }
    },
    {
      "cell_type": "markdown",
      "source": [
        "3. Apa perbedaan jarak Euclidean dan Manhattan\n",
        "\n",
        ">**Jarak Euclidean**\n",
        "\n",
        ">Merupakan jarak terpendek antar dua titik\n",
        "\n",
        "\n",
        ">**Jarak Manhattan**\n",
        "\n",
        ">Merupakan jumlah perbedaan mutlak antara titik - titik di semua dimensi\n"
      ],
      "metadata": {
        "id": "ODgjBjfLv9GC"
      }
    },
    {
      "cell_type": "markdown",
      "source": [
        "4. Apa kegunaan matriks dalam ilmu matematika ketika menerapkan AI ?\n",
        "\n",
        ">Berguna untuk pemrograman yang membutuhkan array dalam Ilmu Komputer dan enkripsi data dapat dilakukan dengan menggunakan beragam operasi matriks"
      ],
      "metadata": {
        "id": "UfsECXvP0nuC"
      }
    },
    {
      "cell_type": "markdown",
      "source": [
        "**Machine Learning**\n",
        "\n",
        "1. Jelaskan perbedaan supervised dan unsupervised learning dan sebutkan 2 contohnya!\n",
        "\n",
        ">**Supervised Learning**\n",
        "\n",
        ">Merupakan algoritma machine learning yang proses pembelajarannya di bawah pengawasan guru atau supervisor.\n",
        "\n",
        ">Contoh : memprediksi harga rumah, mengklasifikasikan suatu benda, memprediksi cuaca, dll.\n",
        "\n",
        ">**Unsupervised Learning**\n",
        "\n",
        ">Merupakan proses pembelajaran yang diawasi oleh guru, sedangkan dalam algoritma unsupervised learning, proses pembelajaran lebih bebas karena tidak ada pengawasan. \n",
        "\n",
        ">Contoh : segmentasi pelanggan, mengurangi kompleksitas suatu masalah, dan memilih fitur yang tepat."
      ],
      "metadata": {
        "id": "57EIJPGU1zNe"
      }
    },
    {
      "cell_type": "markdown",
      "source": [
        "2. Sebutkan setiap tahap yang ada di Machine Learning life Cycle dan jelaskan!\n",
        "\n",
        ">a. Pengumpulan Data\n",
        "\n",
        ">>Digunakan untuk mengidentifikasi dan mendapatkan semua masalah terkait data.\n",
        "\n",
        ">b. Persiapan Data\n",
        "\n",
        ">>Merupakan langkah dimana kami menempatkan data kami ke tempat yang sesuai dan mempersiapkannya untuk digunakan dalam pelatihan pembelajaran mesin.\n",
        "\n",
        ">c. Perselisihan Data\n",
        "\n",
        ">>Merupakan proses membersihkan dan mengubah data mentah menjadi format yang dapat digunakan.\n",
        "\n",
        ">d. Analisis Data\n",
        "\n",
        ">>Digunakan untuk membangun model pembelajaran mesin untuk menganalisis data menggunakan berbagai teknik analisis dan meninjau hasilnya.\n",
        "\n",
        ">e. Model Kereta\n",
        "\n",
        ">>Digunakan untuk melatih model untuk meningkatkan kinerja untuk hasil yang lebih baik dari masalah\n",
        "\n",
        ">f. Model Uji\n",
        "\n",
        ">>Digunakan untuk memeriksa keakuratan model dengan menyediakan kumpulan data uji.\n",
        "\n",
        ">g. Penyebaran\n",
        "\n",
        ">>Merupakan penerapan model dalam sistem dunia nyata"
      ],
      "metadata": {
        "id": "ZRY4kVX23y1b"
      }
    },
    {
      "cell_type": "markdown",
      "source": [
        "3. Apa perbedaan Regression dengan Clustering\n",
        "\n",
        ">**Regression**\n",
        "\n",
        ">>Merupakanteknik analisis untuk mengidentifikasi relasi atau hubungan diantara dua variabel atau lebih. \n",
        "\n",
        ">**Classification**\n",
        "\n",
        ">>Merupakan sebuah teknik untuk mengklasifikasikan atau mengkategorikan beberapa item yang belum berlabel ke dalam sebuah set kelas diskrit."
      ],
      "metadata": {
        "id": "nwtnGgbZ60yv"
      }
    },
    {
      "cell_type": "markdown",
      "source": [
        "4. Apa itu algoritma Artificial Neural Network dan untuk apa fungsinya ?\n",
        "\n",
        ">**Artificial Neural Network** merupakan paradigma pemrosesan informasi yang terinspirasi dari cara kerja sistem saraf (otak) manusia dalam memproses informasi\n",
        "\n",
        ">**Fungsinya** untuk memecahkan sebuah masalah"
      ],
      "metadata": {
        "id": "xOKKUMgd7rHi"
      }
    }
  ]
}